{
  "nbformat": 4,
  "nbformat_minor": 0,
  "metadata": {
    "colab": {
      "name": "Zoltan_Gaspar_PortfolioProject2_v2.ipynb",
      "provenance": [],
      "collapsed_sections": [],
      "include_colab_link": true
    },
    "kernelspec": {
      "name": "python3",
      "display_name": "Python 3"
    }
  },
  "cells": [
    {
      "cell_type": "markdown",
      "metadata": {
        "id": "view-in-github",
        "colab_type": "text"
      },
      "source": [
        "<a href=\"https://colab.research.google.com/github/z0li627/unit2_portfolio_project/blob/master/Zoltan_Gaspar_PortfolioProject2_v2.ipynb\" target=\"_parent\"><img src=\"https://colab.research.google.com/assets/colab-badge.svg\" alt=\"Open In Colab\"/></a>"
      ]
    },
    {
      "cell_type": "code",
      "metadata": {
        "id": "yopvOGZyIqHM",
        "colab_type": "code",
        "colab": {}
      },
      "source": [
        "%%capture\n",
        "import sys\n",
        "import pandas as pd\n",
        "\n",
        "if 'google.colab' in sys.modules:\n",
        "    !pip install category_encoders==2.*\n",
        "    !pip install pdpbox\n",
        "\n",
        "from google.colab import drive\n",
        "drive.mount('/content/drive')\n"
      ],
      "execution_count": 0,
      "outputs": []
    },
    {
      "cell_type": "code",
      "metadata": {
        "id": "ra8hO_82JOOq",
        "colab_type": "code",
        "colab": {
          "base_uri": "https://localhost:8080/",
          "height": 34
        },
        "outputId": "d6b9bf19-9d87-4827-e05f-5985eea45f0f"
      },
      "source": [
        "df = pd.read_csv('/content/drive/My Drive/Colab Notebooks/Unit2/PortfolioProject2/data/dataframe.csv')\n",
        "df.shape"
      ],
      "execution_count": 2,
      "outputs": [
        {
          "output_type": "execute_result",
          "data": {
            "text/plain": [
              "(251, 5)"
            ]
          },
          "metadata": {
            "tags": []
          },
          "execution_count": 2
        }
      ]
    },
    {
      "cell_type": "code",
      "metadata": {
        "id": "gMvh8TAuJO_w",
        "colab_type": "code",
        "colab": {
          "base_uri": "https://localhost:8080/",
          "height": 419
        },
        "outputId": "6c5418f1-64d8-4ec0-a33c-0674f2fe36b3"
      },
      "source": [
        "df"
      ],
      "execution_count": 4,
      "outputs": [
        {
          "output_type": "execute_result",
          "data": {
            "text/html": [
              "<div>\n",
              "<style scoped>\n",
              "    .dataframe tbody tr th:only-of-type {\n",
              "        vertical-align: middle;\n",
              "    }\n",
              "\n",
              "    .dataframe tbody tr th {\n",
              "        vertical-align: top;\n",
              "    }\n",
              "\n",
              "    .dataframe thead th {\n",
              "        text-align: right;\n",
              "    }\n",
              "</style>\n",
              "<table border=\"1\" class=\"dataframe\">\n",
              "  <thead>\n",
              "    <tr style=\"text-align: right;\">\n",
              "      <th></th>\n",
              "      <th>Year</th>\n",
              "      <th>conc_ppm</th>\n",
              "      <th>Median</th>\n",
              "      <th>Upper</th>\n",
              "      <th>Lower</th>\n",
              "    </tr>\n",
              "  </thead>\n",
              "  <tbody>\n",
              "    <tr>\n",
              "      <th>0</th>\n",
              "      <td>1850</td>\n",
              "      <td>287.058</td>\n",
              "      <td>-0.373</td>\n",
              "      <td>-0.339</td>\n",
              "      <td>-0.425</td>\n",
              "    </tr>\n",
              "    <tr>\n",
              "      <th>1</th>\n",
              "      <td>1851</td>\n",
              "      <td>287.190</td>\n",
              "      <td>-0.218</td>\n",
              "      <td>-0.184</td>\n",
              "      <td>-0.274</td>\n",
              "    </tr>\n",
              "    <tr>\n",
              "      <th>2</th>\n",
              "      <td>1852</td>\n",
              "      <td>287.263</td>\n",
              "      <td>-0.228</td>\n",
              "      <td>-0.196</td>\n",
              "      <td>-0.280</td>\n",
              "    </tr>\n",
              "    <tr>\n",
              "      <th>3</th>\n",
              "      <td>1853</td>\n",
              "      <td>287.272</td>\n",
              "      <td>-0.269</td>\n",
              "      <td>-0.239</td>\n",
              "      <td>-0.321</td>\n",
              "    </tr>\n",
              "    <tr>\n",
              "      <th>4</th>\n",
              "      <td>1854</td>\n",
              "      <td>287.223</td>\n",
              "      <td>-0.248</td>\n",
              "      <td>-0.218</td>\n",
              "      <td>-0.301</td>\n",
              "    </tr>\n",
              "    <tr>\n",
              "      <th>...</th>\n",
              "      <td>...</td>\n",
              "      <td>...</td>\n",
              "      <td>...</td>\n",
              "      <td>...</td>\n",
              "      <td>...</td>\n",
              "    </tr>\n",
              "    <tr>\n",
              "      <th>246</th>\n",
              "      <td>2096</td>\n",
              "      <td>NaN</td>\n",
              "      <td>NaN</td>\n",
              "      <td>NaN</td>\n",
              "      <td>NaN</td>\n",
              "    </tr>\n",
              "    <tr>\n",
              "      <th>247</th>\n",
              "      <td>2097</td>\n",
              "      <td>NaN</td>\n",
              "      <td>NaN</td>\n",
              "      <td>NaN</td>\n",
              "      <td>NaN</td>\n",
              "    </tr>\n",
              "    <tr>\n",
              "      <th>248</th>\n",
              "      <td>2098</td>\n",
              "      <td>NaN</td>\n",
              "      <td>NaN</td>\n",
              "      <td>NaN</td>\n",
              "      <td>NaN</td>\n",
              "    </tr>\n",
              "    <tr>\n",
              "      <th>249</th>\n",
              "      <td>2099</td>\n",
              "      <td>NaN</td>\n",
              "      <td>NaN</td>\n",
              "      <td>NaN</td>\n",
              "      <td>NaN</td>\n",
              "    </tr>\n",
              "    <tr>\n",
              "      <th>250</th>\n",
              "      <td>2100</td>\n",
              "      <td>NaN</td>\n",
              "      <td>NaN</td>\n",
              "      <td>NaN</td>\n",
              "      <td>NaN</td>\n",
              "    </tr>\n",
              "  </tbody>\n",
              "</table>\n",
              "<p>251 rows × 5 columns</p>\n",
              "</div>"
            ],
            "text/plain": [
              "     Year  conc_ppm  Median  Upper  Lower\n",
              "0    1850   287.058  -0.373 -0.339 -0.425\n",
              "1    1851   287.190  -0.218 -0.184 -0.274\n",
              "2    1852   287.263  -0.228 -0.196 -0.280\n",
              "3    1853   287.272  -0.269 -0.239 -0.321\n",
              "4    1854   287.223  -0.248 -0.218 -0.301\n",
              "..    ...       ...     ...    ...    ...\n",
              "246  2096       NaN     NaN    NaN    NaN\n",
              "247  2097       NaN     NaN    NaN    NaN\n",
              "248  2098       NaN     NaN    NaN    NaN\n",
              "249  2099       NaN     NaN    NaN    NaN\n",
              "250  2100       NaN     NaN    NaN    NaN\n",
              "\n",
              "[251 rows x 5 columns]"
            ]
          },
          "metadata": {
            "tags": []
          },
          "execution_count": 4
        }
      ]
    },
    {
      "cell_type": "code",
      "metadata": {
        "id": "CGxShTdbayTK",
        "colab_type": "code",
        "colab": {
          "base_uri": "https://localhost:8080/",
          "height": 204
        },
        "outputId": "534b168f-997e-46d5-92ff-970878ef79e7"
      },
      "source": [
        "df1 = pd.read_csv('/content/drive/My Drive/Colab Notebooks/Unit2/PortfolioProject2/data/co2_conc_1850.csv')\n",
        "df1.head()"
      ],
      "execution_count": 5,
      "outputs": [
        {
          "output_type": "execute_result",
          "data": {
            "text/html": [
              "<div>\n",
              "<style scoped>\n",
              "    .dataframe tbody tr th:only-of-type {\n",
              "        vertical-align: middle;\n",
              "    }\n",
              "\n",
              "    .dataframe tbody tr th {\n",
              "        vertical-align: top;\n",
              "    }\n",
              "\n",
              "    .dataframe thead th {\n",
              "        text-align: right;\n",
              "    }\n",
              "</style>\n",
              "<table border=\"1\" class=\"dataframe\">\n",
              "  <thead>\n",
              "    <tr style=\"text-align: right;\">\n",
              "      <th></th>\n",
              "      <th>Entity</th>\n",
              "      <th>Code</th>\n",
              "      <th>Year</th>\n",
              "      <th>conc_ppm</th>\n",
              "    </tr>\n",
              "  </thead>\n",
              "  <tbody>\n",
              "    <tr>\n",
              "      <th>0</th>\n",
              "      <td>World</td>\n",
              "      <td>OWID_WRL</td>\n",
              "      <td>1850</td>\n",
              "      <td>287.058</td>\n",
              "    </tr>\n",
              "    <tr>\n",
              "      <th>1</th>\n",
              "      <td>World</td>\n",
              "      <td>OWID_WRL</td>\n",
              "      <td>1851</td>\n",
              "      <td>287.190</td>\n",
              "    </tr>\n",
              "    <tr>\n",
              "      <th>2</th>\n",
              "      <td>World</td>\n",
              "      <td>OWID_WRL</td>\n",
              "      <td>1852</td>\n",
              "      <td>287.263</td>\n",
              "    </tr>\n",
              "    <tr>\n",
              "      <th>3</th>\n",
              "      <td>World</td>\n",
              "      <td>OWID_WRL</td>\n",
              "      <td>1853</td>\n",
              "      <td>287.272</td>\n",
              "    </tr>\n",
              "    <tr>\n",
              "      <th>4</th>\n",
              "      <td>World</td>\n",
              "      <td>OWID_WRL</td>\n",
              "      <td>1854</td>\n",
              "      <td>287.223</td>\n",
              "    </tr>\n",
              "  </tbody>\n",
              "</table>\n",
              "</div>"
            ],
            "text/plain": [
              "  Entity      Code  Year  conc_ppm\n",
              "0  World  OWID_WRL  1850   287.058\n",
              "1  World  OWID_WRL  1851   287.190\n",
              "2  World  OWID_WRL  1852   287.263\n",
              "3  World  OWID_WRL  1853   287.272\n",
              "4  World  OWID_WRL  1854   287.223"
            ]
          },
          "metadata": {
            "tags": []
          },
          "execution_count": 5
        }
      ]
    },
    {
      "cell_type": "code",
      "metadata": {
        "id": "7AsEhM9Pa1cq",
        "colab_type": "code",
        "colab": {
          "base_uri": "https://localhost:8080/",
          "height": 390
        },
        "outputId": "5f1a5a14-ada3-40f7-a90d-123fd5063a26"
      },
      "source": [
        "df2 = pd.DataFrame(df1['conc_ppm'].tail(11))\n",
        "df2"
      ],
      "execution_count": 6,
      "outputs": [
        {
          "output_type": "execute_result",
          "data": {
            "text/html": [
              "<div>\n",
              "<style scoped>\n",
              "    .dataframe tbody tr th:only-of-type {\n",
              "        vertical-align: middle;\n",
              "    }\n",
              "\n",
              "    .dataframe tbody tr th {\n",
              "        vertical-align: top;\n",
              "    }\n",
              "\n",
              "    .dataframe thead th {\n",
              "        text-align: right;\n",
              "    }\n",
              "</style>\n",
              "<table border=\"1\" class=\"dataframe\">\n",
              "  <thead>\n",
              "    <tr style=\"text-align: right;\">\n",
              "      <th></th>\n",
              "      <th>conc_ppm</th>\n",
              "    </tr>\n",
              "  </thead>\n",
              "  <tbody>\n",
              "    <tr>\n",
              "      <th>158</th>\n",
              "      <td>382.849</td>\n",
              "    </tr>\n",
              "    <tr>\n",
              "      <th>159</th>\n",
              "      <td>384.892</td>\n",
              "    </tr>\n",
              "    <tr>\n",
              "      <th>160</th>\n",
              "      <td>386.976</td>\n",
              "    </tr>\n",
              "    <tr>\n",
              "      <th>161</th>\n",
              "      <td>389.110</td>\n",
              "    </tr>\n",
              "    <tr>\n",
              "      <th>162</th>\n",
              "      <td>391.302</td>\n",
              "    </tr>\n",
              "    <tr>\n",
              "      <th>163</th>\n",
              "      <td>393.553</td>\n",
              "    </tr>\n",
              "    <tr>\n",
              "      <th>164</th>\n",
              "      <td>395.857</td>\n",
              "    </tr>\n",
              "    <tr>\n",
              "      <th>165</th>\n",
              "      <td>398.205</td>\n",
              "    </tr>\n",
              "    <tr>\n",
              "      <th>166</th>\n",
              "      <td>400.585</td>\n",
              "    </tr>\n",
              "    <tr>\n",
              "      <th>167</th>\n",
              "      <td>402.982</td>\n",
              "    </tr>\n",
              "    <tr>\n",
              "      <th>168</th>\n",
              "      <td>405.385</td>\n",
              "    </tr>\n",
              "  </tbody>\n",
              "</table>\n",
              "</div>"
            ],
            "text/plain": [
              "     conc_ppm\n",
              "158   382.849\n",
              "159   384.892\n",
              "160   386.976\n",
              "161   389.110\n",
              "162   391.302\n",
              "163   393.553\n",
              "164   395.857\n",
              "165   398.205\n",
              "166   400.585\n",
              "167   402.982\n",
              "168   405.385"
            ]
          },
          "metadata": {
            "tags": []
          },
          "execution_count": 6
        }
      ]
    },
    {
      "cell_type": "code",
      "metadata": {
        "id": "iZ6rM_BebJws",
        "colab_type": "code",
        "colab": {
          "base_uri": "https://localhost:8080/",
          "height": 297
        },
        "outputId": "7531a512-0530-46fa-c0d7-7c4d0f8d2fa1"
      },
      "source": [
        "df2.describe()"
      ],
      "execution_count": 7,
      "outputs": [
        {
          "output_type": "execute_result",
          "data": {
            "text/html": [
              "<div>\n",
              "<style scoped>\n",
              "    .dataframe tbody tr th:only-of-type {\n",
              "        vertical-align: middle;\n",
              "    }\n",
              "\n",
              "    .dataframe tbody tr th {\n",
              "        vertical-align: top;\n",
              "    }\n",
              "\n",
              "    .dataframe thead th {\n",
              "        text-align: right;\n",
              "    }\n",
              "</style>\n",
              "<table border=\"1\" class=\"dataframe\">\n",
              "  <thead>\n",
              "    <tr style=\"text-align: right;\">\n",
              "      <th></th>\n",
              "      <th>conc_ppm</th>\n",
              "    </tr>\n",
              "  </thead>\n",
              "  <tbody>\n",
              "    <tr>\n",
              "      <th>count</th>\n",
              "      <td>11.000000</td>\n",
              "    </tr>\n",
              "    <tr>\n",
              "      <th>mean</th>\n",
              "      <td>393.790545</td>\n",
              "    </tr>\n",
              "    <tr>\n",
              "      <th>std</th>\n",
              "      <td>7.498885</td>\n",
              "    </tr>\n",
              "    <tr>\n",
              "      <th>min</th>\n",
              "      <td>382.849000</td>\n",
              "    </tr>\n",
              "    <tr>\n",
              "      <th>25%</th>\n",
              "      <td>388.043000</td>\n",
              "    </tr>\n",
              "    <tr>\n",
              "      <th>50%</th>\n",
              "      <td>393.553000</td>\n",
              "    </tr>\n",
              "    <tr>\n",
              "      <th>75%</th>\n",
              "      <td>399.395000</td>\n",
              "    </tr>\n",
              "    <tr>\n",
              "      <th>max</th>\n",
              "      <td>405.385000</td>\n",
              "    </tr>\n",
              "  </tbody>\n",
              "</table>\n",
              "</div>"
            ],
            "text/plain": [
              "         conc_ppm\n",
              "count   11.000000\n",
              "mean   393.790545\n",
              "std      7.498885\n",
              "min    382.849000\n",
              "25%    388.043000\n",
              "50%    393.553000\n",
              "75%    399.395000\n",
              "max    405.385000"
            ]
          },
          "metadata": {
            "tags": []
          },
          "execution_count": 7
        }
      ]
    },
    {
      "cell_type": "code",
      "metadata": {
        "id": "v9nnhH-TbepY",
        "colab_type": "code",
        "colab": {
          "base_uri": "https://localhost:8080/",
          "height": 187
        },
        "outputId": "83c174be-cc10-4ae8-e9d3-106c197d8847"
      },
      "source": [
        "df3 = []\n",
        "\n",
        "for i in range(0, 10, 1):\n",
        "  b = (df2['conc_ppm'].iloc[i+1]) - (df2['conc_ppm'].iloc[i])\n",
        "  df3.append(b)\n",
        "\n",
        "df3"
      ],
      "execution_count": 8,
      "outputs": [
        {
          "output_type": "execute_result",
          "data": {
            "text/plain": [
              "[2.0430000000000064,\n",
              " 2.084000000000003,\n",
              " 2.1340000000000146,\n",
              " 2.1919999999999504,\n",
              " 2.25100000000009,\n",
              " 2.303999999999917,\n",
              " 2.348000000000013,\n",
              " 2.3799999999999955,\n",
              " 2.3969999999999914,\n",
              " 2.40300000000002]"
            ]
          },
          "metadata": {
            "tags": []
          },
          "execution_count": 8
        }
      ]
    },
    {
      "cell_type": "code",
      "metadata": {
        "id": "KCp0XI_kjyfJ",
        "colab_type": "code",
        "colab": {
          "base_uri": "https://localhost:8080/",
          "height": 34
        },
        "outputId": "daabfef6-0ce1-4f42-ffd5-b0ba857356c2"
      },
      "source": [
        "df3[9]"
      ],
      "execution_count": 53,
      "outputs": [
        {
          "output_type": "execute_result",
          "data": {
            "text/plain": [
              "2.40300000000002"
            ]
          },
          "metadata": {
            "tags": []
          },
          "execution_count": 53
        }
      ]
    },
    {
      "cell_type": "code",
      "metadata": {
        "id": "PbwyhLuIifiV",
        "colab_type": "code",
        "colab": {
          "base_uri": "https://localhost:8080/",
          "height": 34
        },
        "outputId": "1c47e94c-c718-41e7-b9aa-8be03e28f9bd"
      },
      "source": [
        "df['conc_ppm'].iloc[168] #168 - 250"
      ],
      "execution_count": 9,
      "outputs": [
        {
          "output_type": "execute_result",
          "data": {
            "text/plain": [
              "405.385"
            ]
          },
          "metadata": {
            "tags": []
          },
          "execution_count": 9
        }
      ]
    },
    {
      "cell_type": "code",
      "metadata": {
        "id": "gmQDkztvowZP",
        "colab_type": "code",
        "colab": {
          "base_uri": "https://localhost:8080/",
          "height": 34
        },
        "outputId": "91d328ea-44bd-4832-ab1f-72cf1f8ca5f7"
      },
      "source": [
        "i = 169\n",
        "j = 0\n",
        "\n",
        "zzz = (df['conc_ppm'].iloc[i-1]) + (df3[j])\n",
        "zzz"
      ],
      "execution_count": 10,
      "outputs": [
        {
          "output_type": "execute_result",
          "data": {
            "text/plain": [
              "407.428"
            ]
          },
          "metadata": {
            "tags": []
          },
          "execution_count": 10
        }
      ]
    },
    {
      "cell_type": "code",
      "metadata": {
        "id": "uEcxxw5VjGmn",
        "colab_type": "code",
        "colab": {}
      },
      "source": [
        "abb = 405.385\n",
        "zzz = []\n",
        "\n",
        "for i in range(169, 250, 1):\n",
        "  for j in range(0, 10, 1):\n",
        "    abb = abb + (df3[j])\n",
        "    zzz.append(abb)\n",
        "\n"
      ],
      "execution_count": 0,
      "outputs": []
    },
    {
      "cell_type": "code",
      "metadata": {
        "id": "h6jg0iWGoKkw",
        "colab_type": "code",
        "colab": {
          "base_uri": "https://localhost:8080/",
          "height": 34
        },
        "outputId": "fe280366-9e94-4afb-c1a9-48d69c51acf7"
      },
      "source": [
        "#res = test_list[: len(test_list) - K] \n",
        "zz = zzz[: len(zzz) - 727]\n",
        "len(zz)"
      ],
      "execution_count": 12,
      "outputs": [
        {
          "output_type": "execute_result",
          "data": {
            "text/plain": [
              "83"
            ]
          },
          "metadata": {
            "tags": []
          },
          "execution_count": 12
        }
      ]
    },
    {
      "cell_type": "code",
      "metadata": {
        "id": "sESlAPMsxhHX",
        "colab_type": "code",
        "colab": {
          "base_uri": "https://localhost:8080/",
          "height": 1000
        },
        "outputId": "6e1a44c7-3612-4eea-90f0-f4e8fde86c1d"
      },
      "source": [
        "import numpy as np\n",
        "zz = list(np.around(np.array(zz),3))\n",
        "zz"
      ],
      "execution_count": 13,
      "outputs": [
        {
          "output_type": "execute_result",
          "data": {
            "text/plain": [
              "[407.428,\n",
              " 409.512,\n",
              " 411.646,\n",
              " 413.838,\n",
              " 416.089,\n",
              " 418.393,\n",
              " 420.741,\n",
              " 423.121,\n",
              " 425.518,\n",
              " 427.921,\n",
              " 429.964,\n",
              " 432.048,\n",
              " 434.182,\n",
              " 436.374,\n",
              " 438.625,\n",
              " 440.929,\n",
              " 443.277,\n",
              " 445.657,\n",
              " 448.054,\n",
              " 450.457,\n",
              " 452.5,\n",
              " 454.584,\n",
              " 456.718,\n",
              " 458.91,\n",
              " 461.161,\n",
              " 463.465,\n",
              " 465.813,\n",
              " 468.193,\n",
              " 470.59,\n",
              " 472.993,\n",
              " 475.036,\n",
              " 477.12,\n",
              " 479.254,\n",
              " 481.446,\n",
              " 483.697,\n",
              " 486.001,\n",
              " 488.349,\n",
              " 490.729,\n",
              " 493.126,\n",
              " 495.529,\n",
              " 497.572,\n",
              " 499.656,\n",
              " 501.79,\n",
              " 503.982,\n",
              " 506.233,\n",
              " 508.537,\n",
              " 510.885,\n",
              " 513.265,\n",
              " 515.662,\n",
              " 518.065,\n",
              " 520.108,\n",
              " 522.192,\n",
              " 524.326,\n",
              " 526.518,\n",
              " 528.769,\n",
              " 531.073,\n",
              " 533.421,\n",
              " 535.801,\n",
              " 538.198,\n",
              " 540.601,\n",
              " 542.644,\n",
              " 544.728,\n",
              " 546.862,\n",
              " 549.054,\n",
              " 551.305,\n",
              " 553.609,\n",
              " 555.957,\n",
              " 558.337,\n",
              " 560.734,\n",
              " 563.137,\n",
              " 565.18,\n",
              " 567.264,\n",
              " 569.398,\n",
              " 571.59,\n",
              " 573.841,\n",
              " 576.145,\n",
              " 578.493,\n",
              " 580.873,\n",
              " 583.27,\n",
              " 585.673,\n",
              " 587.716,\n",
              " 589.8,\n",
              " 591.934]"
            ]
          },
          "metadata": {
            "tags": []
          },
          "execution_count": 13
        }
      ]
    },
    {
      "cell_type": "code",
      "metadata": {
        "id": "0OakkuD2yIeV",
        "colab_type": "code",
        "colab": {
          "base_uri": "https://localhost:8080/",
          "height": 102
        },
        "outputId": "78f9ef83-7481-49e0-e50d-f927f5c36244"
      },
      "source": [
        "for i in range(170, 251, 1):\n",
        "  for j in range(1, 82, 1):\n",
        "    df['conc_ppm'].iloc[i] = zz[j]\n",
        "\n"
      ],
      "execution_count": 14,
      "outputs": [
        {
          "output_type": "stream",
          "text": [
            "/usr/local/lib/python3.6/dist-packages/pandas/core/indexing.py:205: SettingWithCopyWarning: \n",
            "A value is trying to be set on a copy of a slice from a DataFrame\n",
            "\n",
            "See the caveats in the documentation: http://pandas.pydata.org/pandas-docs/stable/user_guide/indexing.html#returning-a-view-versus-a-copy\n",
            "  self._setitem_with_indexer(indexer, value)\n"
          ],
          "name": "stderr"
        }
      ]
    },
    {
      "cell_type": "code",
      "metadata": {
        "id": "LIJoODzF0c1b",
        "colab_type": "code",
        "colab": {
          "base_uri": "https://localhost:8080/",
          "height": 34
        },
        "outputId": "2d304544-6fcd-49b8-9ce6-2302f7f5bd63"
      },
      "source": [
        "df['conc_ppm'].iloc[170]"
      ],
      "execution_count": 15,
      "outputs": [
        {
          "output_type": "execute_result",
          "data": {
            "text/plain": [
              "589.8"
            ]
          },
          "metadata": {
            "tags": []
          },
          "execution_count": 15
        }
      ]
    },
    {
      "cell_type": "code",
      "metadata": {
        "id": "2Zvws1G81_3u",
        "colab_type": "code",
        "colab": {
          "base_uri": "https://localhost:8080/",
          "height": 34
        },
        "outputId": "b0b34990-0176-43a6-8eb9-4f16f2a6a1c8"
      },
      "source": [
        "df = pd.read_csv('/content/drive/My Drive/Colab Notebooks/Unit2/PortfolioProject2/data/dataframe2.csv')\n",
        "\n",
        "df.shape"
      ],
      "execution_count": 78,
      "outputs": [
        {
          "output_type": "execute_result",
          "data": {
            "text/plain": [
              "(251, 5)"
            ]
          },
          "metadata": {
            "tags": []
          },
          "execution_count": 78
        }
      ]
    },
    {
      "cell_type": "code",
      "metadata": {
        "id": "sPz-1r-c2cBQ",
        "colab_type": "code",
        "colab": {
          "base_uri": "https://localhost:8080/",
          "height": 497
        },
        "outputId": "98d55d5b-0c2a-4d8d-8489-05f43f8e7aad"
      },
      "source": [
        "import matplotlib.pyplot as plt\n",
        "\n",
        "x1 = df['Year']\n",
        "y1 = df['conc_ppm']\n",
        "plt.figure(figsize=[12, 8])\n",
        "plt.xlabel('Year')\n",
        "plt.ylabel('CO2 Concentration')\n",
        "plt.grid(axis='both')\n",
        "plt.plot(x1, y1)\n",
        "plt.show()"
      ],
      "execution_count": 79,
      "outputs": [
        {
          "output_type": "display_data",
          "data": {
            "image/png": "[encoded data removed]",
            "text/plain": [
              "<Figure size 864x576 with 1 Axes>"
            ]
          },
          "metadata": {
            "tags": []
          }
        }
      ]
    },
    {
      "cell_type": "code",
      "metadata": {
        "id": "22x11x7d2yEU",
        "colab_type": "code",
        "colab": {
          "base_uri": "https://localhost:8080/",
          "height": 497
        },
        "outputId": "5ddecee3-3db4-46c6-fdab-c21b0704ac36"
      },
      "source": [
        "x1 = df['Year']\n",
        "y1 = df['Median']\n",
        "plt.figure(figsize=[12,8])\n",
        "plt.xlabel('Year')\n",
        "plt.ylabel('Temperature anomaly')\n",
        "plt.grid(axis='both')\n",
        "plt.plot(x1, y1)\n",
        "plt.show()"
      ],
      "execution_count": 80,
      "outputs": [
        {
          "output_type": "display_data",
          "data": {
            "image/png": "[encoded data removed]",
            "text/plain": [
              "<Figure size 864x576 with 1 Axes>"
            ]
          },
          "metadata": {
            "tags": []
          }
        }
      ]
    },
    {
      "cell_type": "code",
      "metadata": {
        "id": "u8FEdmhaJRIQ",
        "colab_type": "code",
        "colab": {
          "base_uri": "https://localhost:8080/",
          "height": 34
        },
        "outputId": "b44b05c8-f07c-463a-92fd-2a3caddb0026"
      },
      "source": [
        "train = df.iloc[0:169]\n",
        "test = df.iloc[169:251]\n",
        "\n",
        "train.shape, test.shape"
      ],
      "execution_count": 81,
      "outputs": [
        {
          "output_type": "execute_result",
          "data": {
            "text/plain": [
              "((169, 5), (82, 5))"
            ]
          },
          "metadata": {
            "tags": []
          },
          "execution_count": 81
        }
      ]
    },
    {
      "cell_type": "code",
      "metadata": {
        "id": "XbL0zdwwJbXB",
        "colab_type": "code",
        "colab": {
          "base_uri": "https://localhost:8080/",
          "height": 34
        },
        "outputId": "68782639-f553-421f-f769-0e87a2a3874a"
      },
      "source": [
        "target = 'Median'\n",
        "features = ['Year', 'conc_ppm']\n",
        "X_train = train[features]\n",
        "y_train = train[target]\n",
        "X_test = test[features]\n",
        "y_test = test[target]\n",
        "\n",
        "X_train.shape, y_train.shape, X_test.shape, y_test.shape"
      ],
      "execution_count": 82,
      "outputs": [
        {
          "output_type": "execute_result",
          "data": {
            "text/plain": [
              "((169, 2), (169,), (82, 2), (82,))"
            ]
          },
          "metadata": {
            "tags": []
          },
          "execution_count": 82
        }
      ]
    },
    {
      "cell_type": "code",
      "metadata": {
        "id": "gYeveYS0Ms26",
        "colab_type": "code",
        "colab": {
          "base_uri": "https://localhost:8080/",
          "height": 555
        },
        "outputId": "a8bc3cd8-efe5-4d20-fc25-2226db10db7e"
      },
      "source": [
        "from sklearn.linear_model import LinearRegression\n",
        "\n",
        "model = LinearRegression()\n",
        "model.fit(X_train, y_train)\n",
        "X_test['Median'] = model.predict(X_test[features])\n",
        "\n",
        "X_test"
      ],
      "execution_count": 83,
      "outputs": [
        {
          "output_type": "stream",
          "text": [
            "/usr/local/lib/python3.6/dist-packages/ipykernel_launcher.py:5: SettingWithCopyWarning:\n",
            "\n",
            "\n",
            "A value is trying to be set on a copy of a slice from a DataFrame.\n",
            "Try using .loc[row_indexer,col_indexer] = value instead\n",
            "\n",
            "See the caveats in the documentation: http://pandas.pydata.org/pandas-docs/stable/user_guide/indexing.html#returning-a-view-versus-a-copy\n",
            "\n"
          ],
          "name": "stderr"
        },
        {
          "output_type": "execute_result",
          "data": {
            "text/html": [
              "<div>\n",
              "<style scoped>\n",
              "    .dataframe tbody tr th:only-of-type {\n",
              "        vertical-align: middle;\n",
              "    }\n",
              "\n",
              "    .dataframe tbody tr th {\n",
              "        vertical-align: top;\n",
              "    }\n",
              "\n",
              "    .dataframe thead th {\n",
              "        text-align: right;\n",
              "    }\n",
              "</style>\n",
              "<table border=\"1\" class=\"dataframe\">\n",
              "  <thead>\n",
              "    <tr style=\"text-align: right;\">\n",
              "      <th></th>\n",
              "      <th>Year</th>\n",
              "      <th>conc_ppm</th>\n",
              "      <th>Median</th>\n",
              "    </tr>\n",
              "  </thead>\n",
              "  <tbody>\n",
              "    <tr>\n",
              "      <th>169</th>\n",
              "      <td>2019</td>\n",
              "      <td>407.428</td>\n",
              "      <td>0.712535</td>\n",
              "    </tr>\n",
              "    <tr>\n",
              "      <th>170</th>\n",
              "      <td>2020</td>\n",
              "      <td>409.512</td>\n",
              "      <td>0.731419</td>\n",
              "    </tr>\n",
              "    <tr>\n",
              "      <th>171</th>\n",
              "      <td>2021</td>\n",
              "      <td>411.646</td>\n",
              "      <td>0.750763</td>\n",
              "    </tr>\n",
              "    <tr>\n",
              "      <th>172</th>\n",
              "      <td>2022</td>\n",
              "      <td>413.838</td>\n",
              "      <td>0.770640</td>\n",
              "    </tr>\n",
              "    <tr>\n",
              "      <th>173</th>\n",
              "      <td>2023</td>\n",
              "      <td>416.089</td>\n",
              "      <td>0.791061</td>\n",
              "    </tr>\n",
              "    <tr>\n",
              "      <th>...</th>\n",
              "      <td>...</td>\n",
              "      <td>...</td>\n",
              "      <td>...</td>\n",
              "    </tr>\n",
              "    <tr>\n",
              "      <th>246</th>\n",
              "      <td>2096</td>\n",
              "      <td>580.873</td>\n",
              "      <td>2.285984</td>\n",
              "    </tr>\n",
              "    <tr>\n",
              "      <th>247</th>\n",
              "      <td>2097</td>\n",
              "      <td>583.270</td>\n",
              "      <td>2.307747</td>\n",
              "    </tr>\n",
              "    <tr>\n",
              "      <th>248</th>\n",
              "      <td>2098</td>\n",
              "      <td>585.673</td>\n",
              "      <td>2.329566</td>\n",
              "    </tr>\n",
              "    <tr>\n",
              "      <th>249</th>\n",
              "      <td>2099</td>\n",
              "      <td>587.716</td>\n",
              "      <td>2.348073</td>\n",
              "    </tr>\n",
              "    <tr>\n",
              "      <th>250</th>\n",
              "      <td>2100</td>\n",
              "      <td>589.800</td>\n",
              "      <td>2.366957</td>\n",
              "    </tr>\n",
              "  </tbody>\n",
              "</table>\n",
              "<p>82 rows × 3 columns</p>\n",
              "</div>"
            ],
            "text/plain": [
              "     Year  conc_ppm    Median\n",
              "169  2019   407.428  0.712535\n",
              "170  2020   409.512  0.731419\n",
              "171  2021   411.646  0.750763\n",
              "172  2022   413.838  0.770640\n",
              "173  2023   416.089  0.791061\n",
              "..    ...       ...       ...\n",
              "246  2096   580.873  2.285984\n",
              "247  2097   583.270  2.307747\n",
              "248  2098   585.673  2.329566\n",
              "249  2099   587.716  2.348073\n",
              "250  2100   589.800  2.366957\n",
              "\n",
              "[82 rows x 3 columns]"
            ]
          },
          "metadata": {
            "tags": []
          },
          "execution_count": 83
        }
      ]
    },
    {
      "cell_type": "code",
      "metadata": {
        "id": "q5C4ArO0TsB_",
        "colab_type": "code",
        "colab": {
          "base_uri": "https://localhost:8080/",
          "height": 497
        },
        "outputId": "b0b5ad53-49ec-48a0-ae37-20b7367b127d"
      },
      "source": [
        "import matplotlib.pyplot as plt\n",
        "\n",
        "x2 = X_test['Year']\n",
        "y2 = X_test['Median']\n",
        "plt.figure(figsize=[12, 8])\n",
        "plt.xlabel('Year')\n",
        "plt.ylabel('Temperature anomaly')\n",
        "plt.grid(axis='both')\n",
        "plt.plot(x2, y2)\n",
        "plt.show()"
      ],
      "execution_count": 84,
      "outputs": [
        {
          "output_type": "display_data",
          "data": {
            "image/png": "[encoded data removed]",
            "text/plain": [
              "<Figure size 864x576 with 1 Axes>"
            ]
          },
          "metadata": {
            "tags": []
          }
        }
      ]
    },
    {
      "cell_type": "code",
      "metadata": {
        "id": "a8TaRdnHI43j",
        "colab_type": "code",
        "colab": {
          "base_uri": "https://localhost:8080/",
          "height": 238
        },
        "outputId": "51370ffd-a28a-4425-ea0f-45665b86c2e6"
      },
      "source": [
        "from sklearn.preprocessing import PolynomialFeatures\n",
        "\n",
        "poly = PolynomialFeatures(2)\n",
        "X_poly = poly.fit_transform(X_train, y_train)\n",
        "\n",
        "X_poly"
      ],
      "execution_count": 64,
      "outputs": [
        {
          "output_type": "execute_result",
          "data": {
            "text/plain": [
              "array([[1.00000000e+00, 1.85000000e+03, 2.87058000e+02, 3.42250000e+06,\n",
              "        5.31057300e+05, 8.24022954e+04],\n",
              "       [1.00000000e+00, 1.85100000e+03, 2.87190000e+02, 3.42620100e+06,\n",
              "        5.31588690e+05, 8.24780961e+04],\n",
              "       [1.00000000e+00, 1.85200000e+03, 2.87263000e+02, 3.42990400e+06,\n",
              "        5.32011076e+05, 8.25200312e+04],\n",
              "       ...,\n",
              "       [1.00000000e+00, 2.01600000e+03, 4.00585000e+02, 4.06425600e+06,\n",
              "        8.07579360e+05, 1.60468342e+05],\n",
              "       [1.00000000e+00, 2.01700000e+03, 4.02982000e+02, 4.06828900e+06,\n",
              "        8.12814694e+05, 1.62394492e+05],\n",
              "       [1.00000000e+00, 2.01800000e+03, 4.05385000e+02, 4.07232400e+06,\n",
              "        8.18066930e+05, 1.64336998e+05]])"
            ]
          },
          "metadata": {
            "tags": []
          },
          "execution_count": 64
        }
      ]
    },
    {
      "cell_type": "code",
      "metadata": {
        "id": "S-Eqzcyn0bkk",
        "colab_type": "code",
        "colab": {
          "base_uri": "https://localhost:8080/",
          "height": 497
        },
        "outputId": "2b903b56-fdbd-4578-ee9f-e0c6dc06d468"
      },
      "source": [
        "x2 = X_test['Year']\n",
        "y2 = X_test['Median']\n",
        "plt.figure(figsize=[12, 8])\n",
        "plt.xlabel('Year')\n",
        "plt.ylabel('Temperature anomaly')\n",
        "plt.grid(axis='both')\n",
        "plt.plot(x2, y2)\n",
        "plt.show()"
      ],
      "execution_count": 70,
      "outputs": [
        {
          "output_type": "display_data",
          "data": {
            "image/png": "[encoded data removed]",
            "text/plain": [
              "<Figure size 864x576 with 1 Axes>"
            ]
          },
          "metadata": {
            "tags": []
          }
        }
      ]
    },
    {
      "cell_type": "code",
      "metadata": {
        "id": "V553J-EXHMUT",
        "colab_type": "code",
        "colab": {}
      },
      "source": [
        "import pandas as pd\n",
        "from fbprophet import Prophet\n"
      ],
      "execution_count": 0,
      "outputs": []
    },
    {
      "cell_type": "code",
      "metadata": {
        "id": "r0KZCoGoXezo",
        "colab_type": "code",
        "colab": {
          "base_uri": "https://localhost:8080/",
          "height": 34
        },
        "outputId": "acd30ffb-973f-48aa-98f2-7d0e10cd45a2"
      },
      "source": [
        "df = pd.read_csv('/content/drive/My Drive/Colab Notebooks/Unit2/PortfolioProject2/data/dataframe2.csv')\n",
        "\n",
        "df.shape"
      ],
      "execution_count": 30,
      "outputs": [
        {
          "output_type": "execute_result",
          "data": {
            "text/plain": [
              "(251, 5)"
            ]
          },
          "metadata": {
            "tags": []
          },
          "execution_count": 30
        }
      ]
    },
    {
      "cell_type": "code",
      "metadata": {
        "id": "u9ovPH_2XsVR",
        "colab_type": "code",
        "colab": {
          "base_uri": "https://localhost:8080/",
          "height": 204
        },
        "outputId": "44d09397-fe28-4efb-8f1e-5a0fb2ac0c24"
      },
      "source": [
        "df.head()"
      ],
      "execution_count": 31,
      "outputs": [
        {
          "output_type": "execute_result",
          "data": {
            "text/html": [
              "<div>\n",
              "<style scoped>\n",
              "    .dataframe tbody tr th:only-of-type {\n",
              "        vertical-align: middle;\n",
              "    }\n",
              "\n",
              "    .dataframe tbody tr th {\n",
              "        vertical-align: top;\n",
              "    }\n",
              "\n",
              "    .dataframe thead th {\n",
              "        text-align: right;\n",
              "    }\n",
              "</style>\n",
              "<table border=\"1\" class=\"dataframe\">\n",
              "  <thead>\n",
              "    <tr style=\"text-align: right;\">\n",
              "      <th></th>\n",
              "      <th>Year</th>\n",
              "      <th>conc_ppm</th>\n",
              "      <th>Median</th>\n",
              "      <th>Upper</th>\n",
              "      <th>Lower</th>\n",
              "    </tr>\n",
              "  </thead>\n",
              "  <tbody>\n",
              "    <tr>\n",
              "      <th>0</th>\n",
              "      <td>1850</td>\n",
              "      <td>287.058</td>\n",
              "      <td>-0.373</td>\n",
              "      <td>-0.339</td>\n",
              "      <td>-0.425</td>\n",
              "    </tr>\n",
              "    <tr>\n",
              "      <th>1</th>\n",
              "      <td>1851</td>\n",
              "      <td>287.190</td>\n",
              "      <td>-0.218</td>\n",
              "      <td>-0.184</td>\n",
              "      <td>-0.274</td>\n",
              "    </tr>\n",
              "    <tr>\n",
              "      <th>2</th>\n",
              "      <td>1852</td>\n",
              "      <td>287.263</td>\n",
              "      <td>-0.228</td>\n",
              "      <td>-0.196</td>\n",
              "      <td>-0.280</td>\n",
              "    </tr>\n",
              "    <tr>\n",
              "      <th>3</th>\n",
              "      <td>1853</td>\n",
              "      <td>287.272</td>\n",
              "      <td>-0.269</td>\n",
              "      <td>-0.239</td>\n",
              "      <td>-0.321</td>\n",
              "    </tr>\n",
              "    <tr>\n",
              "      <th>4</th>\n",
              "      <td>1854</td>\n",
              "      <td>287.223</td>\n",
              "      <td>-0.248</td>\n",
              "      <td>-0.218</td>\n",
              "      <td>-0.301</td>\n",
              "    </tr>\n",
              "  </tbody>\n",
              "</table>\n",
              "</div>"
            ],
            "text/plain": [
              "   Year  conc_ppm  Median  Upper  Lower\n",
              "0  1850   287.058  -0.373 -0.339 -0.425\n",
              "1  1851   287.190  -0.218 -0.184 -0.274\n",
              "2  1852   287.263  -0.228 -0.196 -0.280\n",
              "3  1853   287.272  -0.269 -0.239 -0.321\n",
              "4  1854   287.223  -0.248 -0.218 -0.301"
            ]
          },
          "metadata": {
            "tags": []
          },
          "execution_count": 31
        }
      ]
    },
    {
      "cell_type": "code",
      "metadata": {
        "id": "EjMN99iqX57E",
        "colab_type": "code",
        "colab": {}
      },
      "source": [
        "df['ds'] = pd.to_datetime(df['Year'], format='%Y')\n"
      ],
      "execution_count": 0,
      "outputs": []
    },
    {
      "cell_type": "code",
      "metadata": {
        "id": "-yC3H6-4dE49",
        "colab_type": "code",
        "colab": {
          "base_uri": "https://localhost:8080/",
          "height": 204
        },
        "outputId": "f217733c-b040-4c52-a345-4d9de9b42013"
      },
      "source": [
        "df.head()"
      ],
      "execution_count": 33,
      "outputs": [
        {
          "output_type": "execute_result",
          "data": {
            "text/html": [
              "<div>\n",
              "<style scoped>\n",
              "    .dataframe tbody tr th:only-of-type {\n",
              "        vertical-align: middle;\n",
              "    }\n",
              "\n",
              "    .dataframe tbody tr th {\n",
              "        vertical-align: top;\n",
              "    }\n",
              "\n",
              "    .dataframe thead th {\n",
              "        text-align: right;\n",
              "    }\n",
              "</style>\n",
              "<table border=\"1\" class=\"dataframe\">\n",
              "  <thead>\n",
              "    <tr style=\"text-align: right;\">\n",
              "      <th></th>\n",
              "      <th>Year</th>\n",
              "      <th>conc_ppm</th>\n",
              "      <th>Median</th>\n",
              "      <th>Upper</th>\n",
              "      <th>Lower</th>\n",
              "      <th>ds</th>\n",
              "    </tr>\n",
              "  </thead>\n",
              "  <tbody>\n",
              "    <tr>\n",
              "      <th>0</th>\n",
              "      <td>1850</td>\n",
              "      <td>287.058</td>\n",
              "      <td>-0.373</td>\n",
              "      <td>-0.339</td>\n",
              "      <td>-0.425</td>\n",
              "      <td>1850-01-01</td>\n",
              "    </tr>\n",
              "    <tr>\n",
              "      <th>1</th>\n",
              "      <td>1851</td>\n",
              "      <td>287.190</td>\n",
              "      <td>-0.218</td>\n",
              "      <td>-0.184</td>\n",
              "      <td>-0.274</td>\n",
              "      <td>1851-01-01</td>\n",
              "    </tr>\n",
              "    <tr>\n",
              "      <th>2</th>\n",
              "      <td>1852</td>\n",
              "      <td>287.263</td>\n",
              "      <td>-0.228</td>\n",
              "      <td>-0.196</td>\n",
              "      <td>-0.280</td>\n",
              "      <td>1852-01-01</td>\n",
              "    </tr>\n",
              "    <tr>\n",
              "      <th>3</th>\n",
              "      <td>1853</td>\n",
              "      <td>287.272</td>\n",
              "      <td>-0.269</td>\n",
              "      <td>-0.239</td>\n",
              "      <td>-0.321</td>\n",
              "      <td>1853-01-01</td>\n",
              "    </tr>\n",
              "    <tr>\n",
              "      <th>4</th>\n",
              "      <td>1854</td>\n",
              "      <td>287.223</td>\n",
              "      <td>-0.248</td>\n",
              "      <td>-0.218</td>\n",
              "      <td>-0.301</td>\n",
              "      <td>1854-01-01</td>\n",
              "    </tr>\n",
              "  </tbody>\n",
              "</table>\n",
              "</div>"
            ],
            "text/plain": [
              "   Year  conc_ppm  Median  Upper  Lower         ds\n",
              "0  1850   287.058  -0.373 -0.339 -0.425 1850-01-01\n",
              "1  1851   287.190  -0.218 -0.184 -0.274 1851-01-01\n",
              "2  1852   287.263  -0.228 -0.196 -0.280 1852-01-01\n",
              "3  1853   287.272  -0.269 -0.239 -0.321 1853-01-01\n",
              "4  1854   287.223  -0.248 -0.218 -0.301 1854-01-01"
            ]
          },
          "metadata": {
            "tags": []
          },
          "execution_count": 33
        }
      ]
    },
    {
      "cell_type": "code",
      "metadata": {
        "id": "3Y8th8QGdH97",
        "colab_type": "code",
        "colab": {
          "base_uri": "https://localhost:8080/",
          "height": 204
        },
        "outputId": "d87a4570-98fb-4f20-b07f-401c98900a8c"
      },
      "source": [
        "df['y'] = df['conc_ppm']\n",
        "df.head()"
      ],
      "execution_count": 34,
      "outputs": [
        {
          "output_type": "execute_result",
          "data": {
            "text/html": [
              "<div>\n",
              "<style scoped>\n",
              "    .dataframe tbody tr th:only-of-type {\n",
              "        vertical-align: middle;\n",
              "    }\n",
              "\n",
              "    .dataframe tbody tr th {\n",
              "        vertical-align: top;\n",
              "    }\n",
              "\n",
              "    .dataframe thead th {\n",
              "        text-align: right;\n",
              "    }\n",
              "</style>\n",
              "<table border=\"1\" class=\"dataframe\">\n",
              "  <thead>\n",
              "    <tr style=\"text-align: right;\">\n",
              "      <th></th>\n",
              "      <th>Year</th>\n",
              "      <th>conc_ppm</th>\n",
              "      <th>Median</th>\n",
              "      <th>Upper</th>\n",
              "      <th>Lower</th>\n",
              "      <th>ds</th>\n",
              "      <th>y</th>\n",
              "    </tr>\n",
              "  </thead>\n",
              "  <tbody>\n",
              "    <tr>\n",
              "      <th>0</th>\n",
              "      <td>1850</td>\n",
              "      <td>287.058</td>\n",
              "      <td>-0.373</td>\n",
              "      <td>-0.339</td>\n",
              "      <td>-0.425</td>\n",
              "      <td>1850-01-01</td>\n",
              "      <td>287.058</td>\n",
              "    </tr>\n",
              "    <tr>\n",
              "      <th>1</th>\n",
              "      <td>1851</td>\n",
              "      <td>287.190</td>\n",
              "      <td>-0.218</td>\n",
              "      <td>-0.184</td>\n",
              "      <td>-0.274</td>\n",
              "      <td>1851-01-01</td>\n",
              "      <td>287.190</td>\n",
              "    </tr>\n",
              "    <tr>\n",
              "      <th>2</th>\n",
              "      <td>1852</td>\n",
              "      <td>287.263</td>\n",
              "      <td>-0.228</td>\n",
              "      <td>-0.196</td>\n",
              "      <td>-0.280</td>\n",
              "      <td>1852-01-01</td>\n",
              "      <td>287.263</td>\n",
              "    </tr>\n",
              "    <tr>\n",
              "      <th>3</th>\n",
              "      <td>1853</td>\n",
              "      <td>287.272</td>\n",
              "      <td>-0.269</td>\n",
              "      <td>-0.239</td>\n",
              "      <td>-0.321</td>\n",
              "      <td>1853-01-01</td>\n",
              "      <td>287.272</td>\n",
              "    </tr>\n",
              "    <tr>\n",
              "      <th>4</th>\n",
              "      <td>1854</td>\n",
              "      <td>287.223</td>\n",
              "      <td>-0.248</td>\n",
              "      <td>-0.218</td>\n",
              "      <td>-0.301</td>\n",
              "      <td>1854-01-01</td>\n",
              "      <td>287.223</td>\n",
              "    </tr>\n",
              "  </tbody>\n",
              "</table>\n",
              "</div>"
            ],
            "text/plain": [
              "   Year  conc_ppm  Median  Upper  Lower         ds        y\n",
              "0  1850   287.058  -0.373 -0.339 -0.425 1850-01-01  287.058\n",
              "1  1851   287.190  -0.218 -0.184 -0.274 1851-01-01  287.190\n",
              "2  1852   287.263  -0.228 -0.196 -0.280 1852-01-01  287.263\n",
              "3  1853   287.272  -0.269 -0.239 -0.321 1853-01-01  287.272\n",
              "4  1854   287.223  -0.248 -0.218 -0.301 1854-01-01  287.223"
            ]
          },
          "metadata": {
            "tags": []
          },
          "execution_count": 34
        }
      ]
    },
    {
      "cell_type": "code",
      "metadata": {
        "id": "AGeB60JTWzPi",
        "colab_type": "code",
        "colab": {
          "base_uri": "https://localhost:8080/",
          "height": 68
        },
        "outputId": "41882406-f58b-4c2d-d227-fb487dbd2a7f"
      },
      "source": [
        "m = Prophet()\n",
        "m.fit(df)"
      ],
      "execution_count": 47,
      "outputs": [
        {
          "output_type": "stream",
          "text": [
            "INFO:fbprophet:Disabling weekly seasonality. Run prophet with weekly_seasonality=True to override this.\n",
            "INFO:fbprophet:Disabling daily seasonality. Run prophet with daily_seasonality=True to override this.\n"
          ],
          "name": "stderr"
        },
        {
          "output_type": "execute_result",
          "data": {
            "text/plain": [
              "<fbprophet.forecaster.Prophet at 0x7f66e03a7e80>"
            ]
          },
          "metadata": {
            "tags": []
          },
          "execution_count": 47
        }
      ]
    },
    {
      "cell_type": "code",
      "metadata": {
        "id": "RvXkrhtKW2Mv",
        "colab_type": "code",
        "colab": {
          "base_uri": "https://localhost:8080/",
          "height": 204
        },
        "outputId": "34f6c99c-cb0e-49a6-c5f8-2c167b58d082"
      },
      "source": [
        "future = m.make_future_dataframe(periods=100)\n",
        "future.tail()"
      ],
      "execution_count": 48,
      "outputs": [
        {
          "output_type": "execute_result",
          "data": {
            "text/html": [
              "<div>\n",
              "<style scoped>\n",
              "    .dataframe tbody tr th:only-of-type {\n",
              "        vertical-align: middle;\n",
              "    }\n",
              "\n",
              "    .dataframe tbody tr th {\n",
              "        vertical-align: top;\n",
              "    }\n",
              "\n",
              "    .dataframe thead th {\n",
              "        text-align: right;\n",
              "    }\n",
              "</style>\n",
              "<table border=\"1\" class=\"dataframe\">\n",
              "  <thead>\n",
              "    <tr style=\"text-align: right;\">\n",
              "      <th></th>\n",
              "      <th>ds</th>\n",
              "    </tr>\n",
              "  </thead>\n",
              "  <tbody>\n",
              "    <tr>\n",
              "      <th>346</th>\n",
              "      <td>2100-04-07</td>\n",
              "    </tr>\n",
              "    <tr>\n",
              "      <th>347</th>\n",
              "      <td>2100-04-08</td>\n",
              "    </tr>\n",
              "    <tr>\n",
              "      <th>348</th>\n",
              "      <td>2100-04-09</td>\n",
              "    </tr>\n",
              "    <tr>\n",
              "      <th>349</th>\n",
              "      <td>2100-04-10</td>\n",
              "    </tr>\n",
              "    <tr>\n",
              "      <th>350</th>\n",
              "      <td>2100-04-11</td>\n",
              "    </tr>\n",
              "  </tbody>\n",
              "</table>\n",
              "</div>"
            ],
            "text/plain": [
              "            ds\n",
              "346 2100-04-07\n",
              "347 2100-04-08\n",
              "348 2100-04-09\n",
              "349 2100-04-10\n",
              "350 2100-04-11"
            ]
          },
          "metadata": {
            "tags": []
          },
          "execution_count": 48
        }
      ]
    },
    {
      "cell_type": "code",
      "metadata": {
        "id": "PNunksVwW4Bm",
        "colab_type": "code",
        "colab": {
          "base_uri": "https://localhost:8080/",
          "height": 204
        },
        "outputId": "e86fcf79-fb45-4924-a744-ace19b2f3555"
      },
      "source": [
        "forecast = m.predict(future)\n",
        "forecast[['ds', 'yhat', 'yhat_lower', 'yhat_upper']].tail()"
      ],
      "execution_count": 49,
      "outputs": [
        {
          "output_type": "execute_result",
          "data": {
            "text/html": [
              "<div>\n",
              "<style scoped>\n",
              "    .dataframe tbody tr th:only-of-type {\n",
              "        vertical-align: middle;\n",
              "    }\n",
              "\n",
              "    .dataframe tbody tr th {\n",
              "        vertical-align: top;\n",
              "    }\n",
              "\n",
              "    .dataframe thead th {\n",
              "        text-align: right;\n",
              "    }\n",
              "</style>\n",
              "<table border=\"1\" class=\"dataframe\">\n",
              "  <thead>\n",
              "    <tr style=\"text-align: right;\">\n",
              "      <th></th>\n",
              "      <th>ds</th>\n",
              "      <th>yhat</th>\n",
              "      <th>yhat_lower</th>\n",
              "      <th>yhat_upper</th>\n",
              "    </tr>\n",
              "  </thead>\n",
              "  <tbody>\n",
              "    <tr>\n",
              "      <th>346</th>\n",
              "      <td>2100-04-07</td>\n",
              "      <td>590.348211</td>\n",
              "      <td>590.106249</td>\n",
              "      <td>590.571457</td>\n",
              "    </tr>\n",
              "    <tr>\n",
              "      <th>347</th>\n",
              "      <td>2100-04-08</td>\n",
              "      <td>589.909434</td>\n",
              "      <td>589.678243</td>\n",
              "      <td>590.137647</td>\n",
              "    </tr>\n",
              "    <tr>\n",
              "      <th>348</th>\n",
              "      <td>2100-04-09</td>\n",
              "      <td>589.481864</td>\n",
              "      <td>589.249780</td>\n",
              "      <td>589.701857</td>\n",
              "    </tr>\n",
              "    <tr>\n",
              "      <th>349</th>\n",
              "      <td>2100-04-10</td>\n",
              "      <td>589.078553</td>\n",
              "      <td>588.871692</td>\n",
              "      <td>589.293456</td>\n",
              "    </tr>\n",
              "    <tr>\n",
              "      <th>350</th>\n",
              "      <td>2100-04-11</td>\n",
              "      <td>588.711651</td>\n",
              "      <td>588.490076</td>\n",
              "      <td>588.929692</td>\n",
              "    </tr>\n",
              "  </tbody>\n",
              "</table>\n",
              "</div>"
            ],
            "text/plain": [
              "            ds        yhat  yhat_lower  yhat_upper\n",
              "346 2100-04-07  590.348211  590.106249  590.571457\n",
              "347 2100-04-08  589.909434  589.678243  590.137647\n",
              "348 2100-04-09  589.481864  589.249780  589.701857\n",
              "349 2100-04-10  589.078553  588.871692  589.293456\n",
              "350 2100-04-11  588.711651  588.490076  588.929692"
            ]
          },
          "metadata": {
            "tags": []
          },
          "execution_count": 49
        }
      ]
    },
    {
      "cell_type": "code",
      "metadata": {
        "id": "B-TrX6BaXAnl",
        "colab_type": "code",
        "colab": {
          "base_uri": "https://localhost:8080/",
          "height": 441
        },
        "outputId": "f036d41d-a7a3-4364-ebc4-f7f7b68c7b4e"
      },
      "source": [
        "fig1 = m.plot(forecast, xlabel='Year', ylabel='CO2 levels')"
      ],
      "execution_count": 76,
      "outputs": [
        {
          "output_type": "display_data",
          "data": {
            "image/png": "[encoded data removed]",
            "text/plain": [
              "<Figure size 720x432 with 1 Axes>"
            ]
          },
          "metadata": {
            "tags": []
          }
        }
      ]
    },
    {
      "cell_type": "code",
      "metadata": {
        "id": "bgfXW3xFfKaZ",
        "colab_type": "code",
        "colab": {
          "base_uri": "https://localhost:8080/",
          "height": 204
        },
        "outputId": "9596da34-d0ec-4681-a915-73d67a6aa2a1"
      },
      "source": [
        "df['y'] = df['Median']\n",
        "df.head()"
      ],
      "execution_count": 52,
      "outputs": [
        {
          "output_type": "execute_result",
          "data": {
            "text/html": [
              "<div>\n",
              "<style scoped>\n",
              "    .dataframe tbody tr th:only-of-type {\n",
              "        vertical-align: middle;\n",
              "    }\n",
              "\n",
              "    .dataframe tbody tr th {\n",
              "        vertical-align: top;\n",
              "    }\n",
              "\n",
              "    .dataframe thead th {\n",
              "        text-align: right;\n",
              "    }\n",
              "</style>\n",
              "<table border=\"1\" class=\"dataframe\">\n",
              "  <thead>\n",
              "    <tr style=\"text-align: right;\">\n",
              "      <th></th>\n",
              "      <th>Year</th>\n",
              "      <th>conc_ppm</th>\n",
              "      <th>Median</th>\n",
              "      <th>Upper</th>\n",
              "      <th>Lower</th>\n",
              "      <th>ds</th>\n",
              "      <th>y</th>\n",
              "    </tr>\n",
              "  </thead>\n",
              "  <tbody>\n",
              "    <tr>\n",
              "      <th>0</th>\n",
              "      <td>1850</td>\n",
              "      <td>287.058</td>\n",
              "      <td>-0.373</td>\n",
              "      <td>-0.339</td>\n",
              "      <td>-0.425</td>\n",
              "      <td>1850-01-01</td>\n",
              "      <td>-0.373</td>\n",
              "    </tr>\n",
              "    <tr>\n",
              "      <th>1</th>\n",
              "      <td>1851</td>\n",
              "      <td>287.190</td>\n",
              "      <td>-0.218</td>\n",
              "      <td>-0.184</td>\n",
              "      <td>-0.274</td>\n",
              "      <td>1851-01-01</td>\n",
              "      <td>-0.218</td>\n",
              "    </tr>\n",
              "    <tr>\n",
              "      <th>2</th>\n",
              "      <td>1852</td>\n",
              "      <td>287.263</td>\n",
              "      <td>-0.228</td>\n",
              "      <td>-0.196</td>\n",
              "      <td>-0.280</td>\n",
              "      <td>1852-01-01</td>\n",
              "      <td>-0.228</td>\n",
              "    </tr>\n",
              "    <tr>\n",
              "      <th>3</th>\n",
              "      <td>1853</td>\n",
              "      <td>287.272</td>\n",
              "      <td>-0.269</td>\n",
              "      <td>-0.239</td>\n",
              "      <td>-0.321</td>\n",
              "      <td>1853-01-01</td>\n",
              "      <td>-0.269</td>\n",
              "    </tr>\n",
              "    <tr>\n",
              "      <th>4</th>\n",
              "      <td>1854</td>\n",
              "      <td>287.223</td>\n",
              "      <td>-0.248</td>\n",
              "      <td>-0.218</td>\n",
              "      <td>-0.301</td>\n",
              "      <td>1854-01-01</td>\n",
              "      <td>-0.248</td>\n",
              "    </tr>\n",
              "  </tbody>\n",
              "</table>\n",
              "</div>"
            ],
            "text/plain": [
              "   Year  conc_ppm  Median  Upper  Lower         ds      y\n",
              "0  1850   287.058  -0.373 -0.339 -0.425 1850-01-01 -0.373\n",
              "1  1851   287.190  -0.218 -0.184 -0.274 1851-01-01 -0.218\n",
              "2  1852   287.263  -0.228 -0.196 -0.280 1852-01-01 -0.228\n",
              "3  1853   287.272  -0.269 -0.239 -0.321 1853-01-01 -0.269\n",
              "4  1854   287.223  -0.248 -0.218 -0.301 1854-01-01 -0.248"
            ]
          },
          "metadata": {
            "tags": []
          },
          "execution_count": 52
        }
      ]
    },
    {
      "cell_type": "code",
      "metadata": {
        "id": "aTI_eqiUfWZQ",
        "colab_type": "code",
        "colab": {
          "base_uri": "https://localhost:8080/",
          "height": 68
        },
        "outputId": "a04b5a91-fb93-4751-b90e-06f723eede96"
      },
      "source": [
        "m = Prophet()\n",
        "m.fit(df)"
      ],
      "execution_count": 53,
      "outputs": [
        {
          "output_type": "stream",
          "text": [
            "INFO:fbprophet:Disabling weekly seasonality. Run prophet with weekly_seasonality=True to override this.\n",
            "INFO:fbprophet:Disabling daily seasonality. Run prophet with daily_seasonality=True to override this.\n"
          ],
          "name": "stderr"
        },
        {
          "output_type": "execute_result",
          "data": {
            "text/plain": [
              "<fbprophet.forecaster.Prophet at 0x7f66e03f3588>"
            ]
          },
          "metadata": {
            "tags": []
          },
          "execution_count": 53
        }
      ]
    },
    {
      "cell_type": "code",
      "metadata": {
        "id": "snsfzpjtfcO_",
        "colab_type": "code",
        "colab": {
          "base_uri": "https://localhost:8080/",
          "height": 204
        },
        "outputId": "355cdabb-6ec1-460f-f170-e6cde7364b57"
      },
      "source": [
        "future = m.make_future_dataframe(periods=82)\n",
        "future.tail()"
      ],
      "execution_count": 54,
      "outputs": [
        {
          "output_type": "execute_result",
          "data": {
            "text/html": [
              "<div>\n",
              "<style scoped>\n",
              "    .dataframe tbody tr th:only-of-type {\n",
              "        vertical-align: middle;\n",
              "    }\n",
              "\n",
              "    .dataframe tbody tr th {\n",
              "        vertical-align: top;\n",
              "    }\n",
              "\n",
              "    .dataframe thead th {\n",
              "        text-align: right;\n",
              "    }\n",
              "</style>\n",
              "<table border=\"1\" class=\"dataframe\">\n",
              "  <thead>\n",
              "    <tr style=\"text-align: right;\">\n",
              "      <th></th>\n",
              "      <th>ds</th>\n",
              "    </tr>\n",
              "  </thead>\n",
              "  <tbody>\n",
              "    <tr>\n",
              "      <th>328</th>\n",
              "      <td>2100-03-20</td>\n",
              "    </tr>\n",
              "    <tr>\n",
              "      <th>329</th>\n",
              "      <td>2100-03-21</td>\n",
              "    </tr>\n",
              "    <tr>\n",
              "      <th>330</th>\n",
              "      <td>2100-03-22</td>\n",
              "    </tr>\n",
              "    <tr>\n",
              "      <th>331</th>\n",
              "      <td>2100-03-23</td>\n",
              "    </tr>\n",
              "    <tr>\n",
              "      <th>332</th>\n",
              "      <td>2100-03-24</td>\n",
              "    </tr>\n",
              "  </tbody>\n",
              "</table>\n",
              "</div>"
            ],
            "text/plain": [
              "            ds\n",
              "328 2100-03-20\n",
              "329 2100-03-21\n",
              "330 2100-03-22\n",
              "331 2100-03-23\n",
              "332 2100-03-24"
            ]
          },
          "metadata": {
            "tags": []
          },
          "execution_count": 54
        }
      ]
    },
    {
      "cell_type": "code",
      "metadata": {
        "id": "j9vmMez7fdvQ",
        "colab_type": "code",
        "colab": {
          "base_uri": "https://localhost:8080/",
          "height": 204
        },
        "outputId": "58de0186-914a-4799-ba22-b40f3bc469e8"
      },
      "source": [
        "forecast = m.predict(future)\n",
        "forecast[['ds', 'yhat', 'yhat_lower', 'yhat_upper']].tail()"
      ],
      "execution_count": 55,
      "outputs": [
        {
          "output_type": "execute_result",
          "data": {
            "text/html": [
              "<div>\n",
              "<style scoped>\n",
              "    .dataframe tbody tr th:only-of-type {\n",
              "        vertical-align: middle;\n",
              "    }\n",
              "\n",
              "    .dataframe tbody tr th {\n",
              "        vertical-align: top;\n",
              "    }\n",
              "\n",
              "    .dataframe thead th {\n",
              "        text-align: right;\n",
              "    }\n",
              "</style>\n",
              "<table border=\"1\" class=\"dataframe\">\n",
              "  <thead>\n",
              "    <tr style=\"text-align: right;\">\n",
              "      <th></th>\n",
              "      <th>ds</th>\n",
              "      <th>yhat</th>\n",
              "      <th>yhat_lower</th>\n",
              "      <th>yhat_upper</th>\n",
              "    </tr>\n",
              "  </thead>\n",
              "  <tbody>\n",
              "    <tr>\n",
              "      <th>328</th>\n",
              "      <td>2100-03-20</td>\n",
              "      <td>1.356640</td>\n",
              "      <td>1.166069</td>\n",
              "      <td>1.528204</td>\n",
              "    </tr>\n",
              "    <tr>\n",
              "      <th>329</th>\n",
              "      <td>2100-03-21</td>\n",
              "      <td>1.386541</td>\n",
              "      <td>1.205338</td>\n",
              "      <td>1.566095</td>\n",
              "    </tr>\n",
              "    <tr>\n",
              "      <th>330</th>\n",
              "      <td>2100-03-22</td>\n",
              "      <td>1.415937</td>\n",
              "      <td>1.249499</td>\n",
              "      <td>1.576698</td>\n",
              "    </tr>\n",
              "    <tr>\n",
              "      <th>331</th>\n",
              "      <td>2100-03-23</td>\n",
              "      <td>1.443915</td>\n",
              "      <td>1.275178</td>\n",
              "      <td>1.625807</td>\n",
              "    </tr>\n",
              "    <tr>\n",
              "      <th>332</th>\n",
              "      <td>2100-03-24</td>\n",
              "      <td>1.469628</td>\n",
              "      <td>1.289652</td>\n",
              "      <td>1.648893</td>\n",
              "    </tr>\n",
              "  </tbody>\n",
              "</table>\n",
              "</div>"
            ],
            "text/plain": [
              "            ds      yhat  yhat_lower  yhat_upper\n",
              "328 2100-03-20  1.356640    1.166069    1.528204\n",
              "329 2100-03-21  1.386541    1.205338    1.566095\n",
              "330 2100-03-22  1.415937    1.249499    1.576698\n",
              "331 2100-03-23  1.443915    1.275178    1.625807\n",
              "332 2100-03-24  1.469628    1.289652    1.648893"
            ]
          },
          "metadata": {
            "tags": []
          },
          "execution_count": 55
        }
      ]
    },
    {
      "cell_type": "code",
      "metadata": {
        "id": "_vhzT8P0fmMA",
        "colab_type": "code",
        "colab": {
          "base_uri": "https://localhost:8080/",
          "height": 441
        },
        "outputId": "64f5389f-b6d5-4b67-e563-986e3223e632"
      },
      "source": [
        "fig1 = m.plot(forecast)"
      ],
      "execution_count": 56,
      "outputs": [
        {
          "output_type": "display_data",
          "data": {
            "image/png": "[encoded data removed]",
            "text/plain": [
              "<Figure size 720x432 with 1 Axes>"
            ]
          },
          "metadata": {
            "tags": []
          }
        }
      ]
    },
    {
      "cell_type": "code",
      "metadata": {
        "id": "dQuLQwkViurs",
        "colab_type": "code",
        "colab": {
          "base_uri": "https://localhost:8080/",
          "height": 441
        },
        "outputId": "e6929a47-ec07-4522-abc8-736c2693ea19"
      },
      "source": [
        "from fbprophet.plot import add_changepoints_to_plot\n",
        "fig = m.plot(forecast)\n",
        "a = add_changepoints_to_plot(fig.gca(), m, forecast)"
      ],
      "execution_count": 57,
      "outputs": [
        {
          "output_type": "display_data",
          "data": {
            "image/png": "[encoded data removed]",
            "text/plain": [
              "<Figure size 720x432 with 1 Axes>"
            ]
          },
          "metadata": {
            "tags": []
          }
        }
      ]
    },
    {
      "cell_type": "code",
      "metadata": {
        "id": "xAT0w4g7i_VO",
        "colab_type": "code",
        "colab": {
          "base_uri": "https://localhost:8080/",
          "height": 475
        },
        "outputId": "e44ddd85-bf61-41a3-ae9c-f8395a19e43b"
      },
      "source": [
        "m = Prophet(changepoint_prior_scale=0.5)\n",
        "forecast = m.fit(df).predict(future)\n",
        "fig = m.plot(forecast, xlabel='Year', ylabel='Temperature anomaly')"
      ],
      "execution_count": 62,
      "outputs": [
        {
          "output_type": "stream",
          "text": [
            "INFO:fbprophet:Disabling weekly seasonality. Run prophet with weekly_seasonality=True to override this.\n",
            "INFO:fbprophet:Disabling daily seasonality. Run prophet with daily_seasonality=True to override this.\n"
          ],
          "name": "stderr"
        },
        {
          "output_type": "display_data",
          "data": {
            "image/png": "[encoded data removed]",
            "text/plain": [
              "<Figure size 720x432 with 1 Axes>"
            ]
          },
          "metadata": {
            "tags": []
          }
        }
      ]
    },
    {
      "cell_type": "code",
      "metadata": {
        "id": "xZW44kc2G9B2",
        "colab_type": "code",
        "colab": {
          "base_uri": "https://localhost:8080/",
          "height": 419
        },
        "outputId": "114d86f9-850d-4bb2-d2a4-9cb890d5bd8c"
      },
      "source": [
        "df"
      ],
      "execution_count": 75,
      "outputs": [
        {
          "output_type": "execute_result",
          "data": {
            "text/html": [
              "<div>\n",
              "<style scoped>\n",
              "    .dataframe tbody tr th:only-of-type {\n",
              "        vertical-align: middle;\n",
              "    }\n",
              "\n",
              "    .dataframe tbody tr th {\n",
              "        vertical-align: top;\n",
              "    }\n",
              "\n",
              "    .dataframe thead th {\n",
              "        text-align: right;\n",
              "    }\n",
              "</style>\n",
              "<table border=\"1\" class=\"dataframe\">\n",
              "  <thead>\n",
              "    <tr style=\"text-align: right;\">\n",
              "      <th></th>\n",
              "      <th>Year</th>\n",
              "      <th>conc_ppm</th>\n",
              "      <th>Median</th>\n",
              "      <th>Upper</th>\n",
              "      <th>Lower</th>\n",
              "      <th>ds</th>\n",
              "      <th>y</th>\n",
              "    </tr>\n",
              "  </thead>\n",
              "  <tbody>\n",
              "    <tr>\n",
              "      <th>0</th>\n",
              "      <td>1850</td>\n",
              "      <td>287.058</td>\n",
              "      <td>-0.373</td>\n",
              "      <td>-0.339</td>\n",
              "      <td>-0.425</td>\n",
              "      <td>1850-01-01</td>\n",
              "      <td>-0.373</td>\n",
              "    </tr>\n",
              "    <tr>\n",
              "      <th>1</th>\n",
              "      <td>1851</td>\n",
              "      <td>287.190</td>\n",
              "      <td>-0.218</td>\n",
              "      <td>-0.184</td>\n",
              "      <td>-0.274</td>\n",
              "      <td>1851-01-01</td>\n",
              "      <td>-0.218</td>\n",
              "    </tr>\n",
              "    <tr>\n",
              "      <th>2</th>\n",
              "      <td>1852</td>\n",
              "      <td>287.263</td>\n",
              "      <td>-0.228</td>\n",
              "      <td>-0.196</td>\n",
              "      <td>-0.280</td>\n",
              "      <td>1852-01-01</td>\n",
              "      <td>-0.228</td>\n",
              "    </tr>\n",
              "    <tr>\n",
              "      <th>3</th>\n",
              "      <td>1853</td>\n",
              "      <td>287.272</td>\n",
              "      <td>-0.269</td>\n",
              "      <td>-0.239</td>\n",
              "      <td>-0.321</td>\n",
              "      <td>1853-01-01</td>\n",
              "      <td>-0.269</td>\n",
              "    </tr>\n",
              "    <tr>\n",
              "      <th>4</th>\n",
              "      <td>1854</td>\n",
              "      <td>287.223</td>\n",
              "      <td>-0.248</td>\n",
              "      <td>-0.218</td>\n",
              "      <td>-0.301</td>\n",
              "      <td>1854-01-01</td>\n",
              "      <td>-0.248</td>\n",
              "    </tr>\n",
              "    <tr>\n",
              "      <th>...</th>\n",
              "      <td>...</td>\n",
              "      <td>...</td>\n",
              "      <td>...</td>\n",
              "      <td>...</td>\n",
              "      <td>...</td>\n",
              "      <td>...</td>\n",
              "      <td>...</td>\n",
              "    </tr>\n",
              "    <tr>\n",
              "      <th>246</th>\n",
              "      <td>2096</td>\n",
              "      <td>580.873</td>\n",
              "      <td>NaN</td>\n",
              "      <td>NaN</td>\n",
              "      <td>NaN</td>\n",
              "      <td>2096-01-01</td>\n",
              "      <td>NaN</td>\n",
              "    </tr>\n",
              "    <tr>\n",
              "      <th>247</th>\n",
              "      <td>2097</td>\n",
              "      <td>583.270</td>\n",
              "      <td>NaN</td>\n",
              "      <td>NaN</td>\n",
              "      <td>NaN</td>\n",
              "      <td>2097-01-01</td>\n",
              "      <td>NaN</td>\n",
              "    </tr>\n",
              "    <tr>\n",
              "      <th>248</th>\n",
              "      <td>2098</td>\n",
              "      <td>585.673</td>\n",
              "      <td>NaN</td>\n",
              "      <td>NaN</td>\n",
              "      <td>NaN</td>\n",
              "      <td>2098-01-01</td>\n",
              "      <td>NaN</td>\n",
              "    </tr>\n",
              "    <tr>\n",
              "      <th>249</th>\n",
              "      <td>2099</td>\n",
              "      <td>587.716</td>\n",
              "      <td>NaN</td>\n",
              "      <td>NaN</td>\n",
              "      <td>NaN</td>\n",
              "      <td>2099-01-01</td>\n",
              "      <td>NaN</td>\n",
              "    </tr>\n",
              "    <tr>\n",
              "      <th>250</th>\n",
              "      <td>2100</td>\n",
              "      <td>589.800</td>\n",
              "      <td>NaN</td>\n",
              "      <td>NaN</td>\n",
              "      <td>NaN</td>\n",
              "      <td>2100-01-01</td>\n",
              "      <td>NaN</td>\n",
              "    </tr>\n",
              "  </tbody>\n",
              "</table>\n",
              "<p>251 rows × 7 columns</p>\n",
              "</div>"
            ],
            "text/plain": [
              "     Year  conc_ppm  Median  Upper  Lower         ds      y\n",
              "0    1850   287.058  -0.373 -0.339 -0.425 1850-01-01 -0.373\n",
              "1    1851   287.190  -0.218 -0.184 -0.274 1851-01-01 -0.218\n",
              "2    1852   287.263  -0.228 -0.196 -0.280 1852-01-01 -0.228\n",
              "3    1853   287.272  -0.269 -0.239 -0.321 1853-01-01 -0.269\n",
              "4    1854   287.223  -0.248 -0.218 -0.301 1854-01-01 -0.248\n",
              "..    ...       ...     ...    ...    ...        ...    ...\n",
              "246  2096   580.873     NaN    NaN    NaN 2096-01-01    NaN\n",
              "247  2097   583.270     NaN    NaN    NaN 2097-01-01    NaN\n",
              "248  2098   585.673     NaN    NaN    NaN 2098-01-01    NaN\n",
              "249  2099   587.716     NaN    NaN    NaN 2099-01-01    NaN\n",
              "250  2100   589.800     NaN    NaN    NaN 2100-01-01    NaN\n",
              "\n",
              "[251 rows x 7 columns]"
            ]
          },
          "metadata": {
            "tags": []
          },
          "execution_count": 75
        }
      ]
    },
    {
      "cell_type": "code",
      "metadata": {
        "id": "DXn2rxIgD7-S",
        "colab_type": "code",
        "colab": {
          "base_uri": "https://localhost:8080/",
          "height": 34
        },
        "outputId": "65ddd75e-99ae-4092-da99-9f61fce63a09"
      },
      "source": [
        "mean = df['Median'].mean()\n",
        "y_hat = forecast['yhat'][:len(df['Median'])]\n",
        "mean_absolute_error(df['Median'].fillna(mean), y_hat)"
      ],
      "execution_count": 88,
      "outputs": [
        {
          "output_type": "execute_result",
          "data": {
            "text/plain": [
              "0.5399439822394616"
            ]
          },
          "metadata": {
            "tags": []
          },
          "execution_count": 88
        }
      ]
    },
    {
      "cell_type": "code",
      "metadata": {
        "id": "wkQORholeZrh",
        "colab_type": "code",
        "colab": {
          "base_uri": "https://localhost:8080/",
          "height": 34
        },
        "outputId": "af102b02-59a6-4008-d01b-01510b49c911"
      },
      "source": [
        "mean_squared_error(df['Median'].fillna(mean), y_hat)"
      ],
      "execution_count": 89,
      "outputs": [
        {
          "output_type": "execute_result",
          "data": {
            "text/plain": [
              "0.7857391672963581"
            ]
          },
          "metadata": {
            "tags": []
          },
          "execution_count": 89
        }
      ]
    },
    {
      "cell_type": "code",
      "metadata": {
        "id": "5Igl1ZMHlf3i",
        "colab_type": "code",
        "colab": {
          "base_uri": "https://localhost:8080/",
          "height": 34
        },
        "outputId": "75192f5a-2e09-4a40-d257-8fc6c6084c3d"
      },
      "source": [
        "y_pred = X_test['Median']\n",
        "y = df['Median'][:len(y_pred)]\n",
        "mean_absolute_error(y, y_pred)"
      ],
      "execution_count": 90,
      "outputs": [
        {
          "output_type": "execute_result",
          "data": {
            "text/plain": [
              "1.8571863977227634"
            ]
          },
          "metadata": {
            "tags": []
          },
          "execution_count": 90
        }
      ]
    },
    {
      "cell_type": "code",
      "metadata": {
        "id": "VHw_CFVplvj7",
        "colab_type": "code",
        "colab": {
          "base_uri": "https://localhost:8080/",
          "height": 34
        },
        "outputId": "af8243ad-c1fe-4935-ba48-778220663e3f"
      },
      "source": [
        "mean_squared_error(y, y_pred)"
      ],
      "execution_count": 91,
      "outputs": [
        {
          "output_type": "execute_result",
          "data": {
            "text/plain": [
              "3.6905335407864386"
            ]
          },
          "metadata": {
            "tags": []
          },
          "execution_count": 91
        }
      ]
    },
    {
      "cell_type": "code",
      "metadata": {
        "id": "kfritXn6sP_f",
        "colab_type": "code",
        "colab": {
          "base_uri": "https://localhost:8080/",
          "height": 483
        },
        "outputId": "debaf852-7d76-44ec-d9bb-5b0e41e855a2"
      },
      "source": [
        "from sklearn.preprocessing import PolynomialFeatures\n",
        "from sklearn.linear_model import Ridge\n",
        "from sklearn.pipeline import make_pipeline\n",
        "\n",
        "df_tmp = df.dropna()\n",
        "\n",
        "# points used to plot\n",
        "x_plot = df_tmp['Year']\n",
        "\n",
        "# keep a subset of the points\n",
        "x = df_tmp['Year']\n",
        "# y = df['Median'].fillna(df['Median'].mean())\n",
        "y = df_tmp['Median']\n",
        "\n",
        "# create matrix versions of these arrays\n",
        "X = x[:, np.newaxis]\n",
        "X_plot = x_plot[:, np.newaxis]\n",
        "\n",
        "plt.figure(figsize=(12,8))\n",
        "colors = ['red', 'blue', 'green']\n",
        "lw = 2\n",
        "plt.plot(x_plot, y, color='black', linewidth=lw,\n",
        "         label=\"ground truth\")\n",
        "plt.scatter(x, y, color='navy', s=30, marker='o', label=\"training points\")\n",
        "\n",
        "for count, degree in enumerate([2]):\n",
        "    model = make_pipeline(PolynomialFeatures(degree), Ridge())\n",
        "    model.fit(X, y)\n",
        "    y_plot = model.predict(X_plot)\n",
        "    plt.plot(x_plot, y_plot, color=colors[count], linewidth=lw,\n",
        "             label=\"degree %d\" % degree)\n",
        "\n",
        "plt.legend(loc='upper left')\n",
        "plt.grid(axis='both')\n",
        "plt.show()\n"
      ],
      "execution_count": 95,
      "outputs": [
        {
          "output_type": "display_data",
          "data": {
            "image/png": "[encoded data removed]",
            "text/plain": [
              "<Figure size 864x576 with 1 Axes>"
            ]
          },
          "metadata": {
            "tags": []
          }
        }
      ]
    }
  ]
}